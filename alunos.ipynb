{
 "cells": [
  {
   "cell_type": "code",
   "execution_count": 8,
   "metadata": {},
   "outputs": [],
   "source": [
    "import pandas as pd\n",
    "import numpy as np"
   ]
  },
  {
   "cell_type": "code",
   "execution_count": 32,
   "metadata": {},
   "outputs": [],
   "source": [
    "df_alunos = pd.read_csv('alunos.csv', sep='\\t')\n",
    "df_result = pd.read_csv('resultados.csv', sep=';', usecols=['Matricula', 'Nome'])"
   ]
  },
  {
   "cell_type": "code",
   "execution_count": 33,
   "metadata": {},
   "outputs": [
    {
     "data": {
      "text/html": [
       "<div>\n",
       "<style scoped>\n",
       "    .dataframe tbody tr th:only-of-type {\n",
       "        vertical-align: middle;\n",
       "    }\n",
       "\n",
       "    .dataframe tbody tr th {\n",
       "        vertical-align: top;\n",
       "    }\n",
       "\n",
       "    .dataframe thead th {\n",
       "        text-align: right;\n",
       "    }\n",
       "</style>\n",
       "<table border=\"1\" class=\"dataframe\">\n",
       "  <thead>\n",
       "    <tr style=\"text-align: right;\">\n",
       "      <th></th>\n",
       "      <th>Matrícula</th>\n",
       "      <th>Nome</th>\n",
       "    </tr>\n",
       "  </thead>\n",
       "  <tbody>\n",
       "    <tr>\n",
       "      <th>0</th>\n",
       "      <td>548347</td>\n",
       "      <td>ADAILTON BEZERRA DA SILVA FILHO</td>\n",
       "    </tr>\n",
       "    <tr>\n",
       "      <th>4</th>\n",
       "      <td>540901</td>\n",
       "      <td>ANTONIO KLEBERSON DO CARMO SILVA</td>\n",
       "    </tr>\n",
       "    <tr>\n",
       "      <th>8</th>\n",
       "      <td>552568</td>\n",
       "      <td>CARLOS JEFERSON JACINTO DA SILVA</td>\n",
       "    </tr>\n",
       "    <tr>\n",
       "      <th>18</th>\n",
       "      <td>548348</td>\n",
       "      <td>GEORGE FELIPE PLACIDO NOGUEIRA</td>\n",
       "    </tr>\n",
       "    <tr>\n",
       "      <th>47</th>\n",
       "      <td>433953</td>\n",
       "      <td>VITTOR DE MORAIS MELO</td>\n",
       "    </tr>\n",
       "    <tr>\n",
       "      <th>48</th>\n",
       "      <td>555637</td>\n",
       "      <td>WEYDNA DA SILVA FREITAS</td>\n",
       "    </tr>\n",
       "  </tbody>\n",
       "</table>\n",
       "</div>"
      ],
      "text/plain": [
       "    Matrícula                              Nome\n",
       "0      548347   ADAILTON BEZERRA DA SILVA FILHO\n",
       "4      540901  ANTONIO KLEBERSON DO CARMO SILVA\n",
       "8      552568  CARLOS JEFERSON JACINTO DA SILVA\n",
       "18     548348    GEORGE FELIPE PLACIDO NOGUEIRA\n",
       "47     433953             VITTOR DE MORAIS MELO\n",
       "48     555637           WEYDNA DA SILVA FREITAS"
      ]
     },
     "execution_count": 33,
     "metadata": {},
     "output_type": "execute_result"
    }
   ],
   "source": [
    "faltantes = df_alunos[~df_alunos['Matrícula'].isin(df_result['Matricula'])]\n",
    "faltantes"
   ]
  },
  {
   "cell_type": "code",
   "execution_count": 3,
   "metadata": {},
   "outputs": [
    {
     "data": {
      "text/plain": [
       "[3, 2, 1]"
      ]
     },
     "execution_count": 3,
     "metadata": {},
     "output_type": "execute_result"
    }
   ],
   "source": [
    "[1,2,3][::-1]"
   ]
  },
  {
   "cell_type": "code",
   "execution_count": 11,
   "metadata": {},
   "outputs": [],
   "source": [
    "l = [1055, 5601, 0, 0, 2210]"
   ]
  },
  {
   "cell_type": "code",
   "execution_count": 13,
   "metadata": {},
   "outputs": [],
   "source": [
    "l.remove(max(l))\n"
   ]
  },
  {
   "cell_type": "code",
   "execution_count": 25,
   "metadata": {},
   "outputs": [
    {
     "data": {
      "text/plain": [
       "[1055, 0, 0, 2210]"
      ]
     },
     "execution_count": 25,
     "metadata": {},
     "output_type": "execute_result"
    }
   ],
   "source": [
    "l"
   ]
  },
  {
   "cell_type": "code",
   "execution_count": 15,
   "metadata": {},
   "outputs": [
    {
     "data": {
      "text/plain": [
       "np.float64(816.25)"
      ]
     },
     "execution_count": 15,
     "metadata": {},
     "output_type": "execute_result"
    }
   ],
   "source": [
    "np.mean(l)"
   ]
  },
  {
   "cell_type": "code",
   "execution_count": 27,
   "metadata": {},
   "outputs": [
    {
     "data": {
      "text/plain": [
       "np.float64(1020.3125)"
      ]
     },
     "execution_count": 27,
     "metadata": {},
     "output_type": "execute_result"
    }
   ],
   "source": [
    "np.mean(l)*(1.1+0.03*5)"
   ]
  },
  {
   "cell_type": "code",
   "execution_count": 32,
   "metadata": {},
   "outputs": [
    {
     "data": {
      "text/plain": [
       "3619.0"
      ]
     },
     "execution_count": 32,
     "metadata": {},
     "output_type": "execute_result"
    }
   ],
   "source": [
    "max([1358, 0, 0, 7238, 2370])/2"
   ]
  },
  {
   "cell_type": "code",
   "execution_count": 31,
   "metadata": {},
   "outputs": [
    {
     "data": {
      "text/plain": [
       "(np.float64(2272.6), 4512.0)"
      ]
     },
     "execution_count": 31,
     "metadata": {},
     "output_type": "execute_result"
    }
   ],
   "source": [
    "np.mean([9024, 0, 0, 0, 2339]), max([9024, 0, 0, 0, 2339])/2"
   ]
  },
  {
   "cell_type": "code",
   "execution_count": 20,
   "metadata": {},
   "outputs": [
    {
     "data": {
      "text/plain": [
       "[[{'ordem_matr': '02-555670',\n",
       "   'questao': 1,\n",
       "   'numero_pixels_na_coluna': [1358, 0, 0, 7238, 2370]}],\n",
       " [{'ordem_matr': '09-511520',\n",
       "   'questao': 17,\n",
       "   'numero_pixels_na_coluna': [342, 0, 0, 5124, 1487]},\n",
       "  {'ordem_matr': '09-511520',\n",
       "   'questao': 18,\n",
       "   'numero_pixels_na_coluna': [569, 0, 5327, 0, 1771]},\n",
       "  {'ordem_matr': '09-511520',\n",
       "   'questao': 19,\n",
       "   'numero_pixels_na_coluna': [911, 5494, 0, 0, 1977]},\n",
       "  {'ordem_matr': '09-511520',\n",
       "   'questao': 20,\n",
       "   'numero_pixels_na_coluna': [1055, 5601, 0, 0, 2210]}],\n",
       " [{'ordem_matr': '17-537071',\n",
       "   'questao': 18,\n",
       "   'numero_pixels_na_coluna': [683, 0, 7957, 0, 2175]},\n",
       "  {'ordem_matr': '17-537071',\n",
       "   'questao': 20,\n",
       "   'numero_pixels_na_coluna': [9024, 0, 0, 0, 2339]}],\n",
       " [{'ordem_matr': '26-509954',\n",
       "   'questao': 8,\n",
       "   'numero_pixels_na_coluna': [10053, 0, 0, 15994, 1214]}],\n",
       " [{'ordem_matr': '32-497184',\n",
       "   'questao': 20,\n",
       "   'numero_pixels_na_coluna': [1216, 0, 0, 6115, 2126]}],\n",
       " [{'ordem_matr': '34-553576',\n",
       "   'questao': 5,\n",
       "   'numero_pixels_na_coluna': [390, 0, 0, 4921, 1382]}],\n",
       " [{'ordem_matr': '36-536910',\n",
       "   'questao': 1,\n",
       "   'numero_pixels_na_coluna': [1361, 0, 0, 6822, 2078]}],\n",
       " [{'ordem_matr': '38-552631',\n",
       "   'questao': 1,\n",
       "   'numero_pixels_na_coluna': [1441, 0, 0, 5258, 2124]}],\n",
       " [{'ordem_matr': '45-553381',\n",
       "   'questao': 20,\n",
       "   'numero_pixels_na_coluna': [1361, 0, 6115, 0, 2023]}]]"
      ]
     },
     "execution_count": 20,
     "metadata": {},
     "output_type": "execute_result"
    }
   ],
   "source": [
    "[[{'ordem_matr': '02-555670', 'questao': 1, 'numero_pixels_na_coluna': [1358, 0, 0, 7238, 2370]}], [{'ordem_matr': '09-511520', 'questao': 17, 'numero_pixels_na_coluna': [342, 0, 0, 5124, 1487]}, {'ordem_matr': '09-511520', 'questao': 18, 'numero_pixels_na_coluna': [569, 0, 5327, 0, 1771]}, {'ordem_matr': '09-511520', 'questao': 19, 'numero_pixels_na_coluna': [911, 5494, 0, 0, 1977]}, {'ordem_matr': '09-511520', 'questao': 20, 'numero_pixels_na_coluna': [1055, 5601, 0, 0, 2210]}], [{'ordem_matr': '17-537071', 'questao': 18, 'numero_pixels_na_coluna': [683, 0, 7957, 0, 2175]}, {'ordem_matr': '17-537071', 'questao': 20, 'numero_pixels_na_coluna': [9024, 0, 0, 0, 2339]}], [{'ordem_matr': '26-509954', 'questao': 8, 'numero_pixels_na_coluna': [10053, 0, 0, 15994, 1214]}], [{'ordem_matr': '32-497184', 'questao': 20, 'numero_pixels_na_coluna': [1216, 0, 0, 6115, 2126]}], [{'ordem_matr': '34-553576', 'questao': 5, 'numero_pixels_na_coluna': [390, 0, 0, 4921, 1382]}], [{'ordem_matr': '36-536910', 'questao': 1, 'numero_pixels_na_coluna': [1361, 0, 0, 6822, 2078]}], [{'ordem_matr': '38-552631', 'questao': 1, 'numero_pixels_na_coluna': [1441, 0, 0, 5258, 2124]}], [{'ordem_matr': '45-553381', 'questao': 20, 'numero_pixels_na_coluna': [1361, 0, 6115, 0, 2023]}]]"
   ]
  },
  {
   "cell_type": "code",
   "execution_count": null,
   "metadata": {},
   "outputs": [],
   "source": []
  }
 ],
 "metadata": {
  "kernelspec": {
   "display_name": ".venv",
   "language": "python",
   "name": "python3"
  },
  "language_info": {
   "codemirror_mode": {
    "name": "ipython",
    "version": 3
   },
   "file_extension": ".py",
   "mimetype": "text/x-python",
   "name": "python",
   "nbconvert_exporter": "python",
   "pygments_lexer": "ipython3",
   "version": "3.12.8"
  }
 },
 "nbformat": 4,
 "nbformat_minor": 2
}
